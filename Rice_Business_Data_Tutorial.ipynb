{
 "cells": [
  {
   "cell_type": "markdown",
   "metadata": {
    "colab_type": "text",
    "id": "view-in-github"
   },
   "source": [
    "<a href=\"https://colab.research.google.com/github/kerryback/data-portal-notebook/blob/main/Rice_Business_Data_Example.ipynb\" target=\"_parent\"><img src=\"https://colab.research.google.com/assets/colab-badge.svg\" alt=\"Open In Colab\"/></a>"
   ]
  },
  {
   "cell_type": "markdown",
   "metadata": {},
   "source": [
    "# Rice Business Stock Market Python Notebook\n",
    "\n",
    "This notebook is designed to get data from the Rice Business Stock Market Database.\n",
    "\n",
    "### 🔑 Get Your Access Token\n",
    "\n",
    "1. Visit the [Rice Business Data Portal](https://data-portal.rice-business.org)\n",
    "2. Enter your `@rice.edu` email address\n",
    "3. Check your email for the **access token**\n",
    "4. Use that access token in the code below\n",
    "\n",
    "**Note**: The access token is the same token you use to log into the web portal!\n",
    "\n",
    "### 🔐 **Recommended: Store Your Token as a Secret in Google Colab**\n",
    "\n",
    "For security, we recommend storing your access token as a **secret** in Google Colab instead of pasting it directly in the code:\n",
    "\n",
    "#### **How to Add a Secret:**\n",
    "1. **Click the 🔑 key icon** on the left sidebar in Colab\n",
    "2. **Click \"Add new secret\"**\n",
    "3. **Name:** `RICE_ACCESS_TOKEN`\n",
    "4. **Value:** Paste your access token from the email\n",
    "5. **Enable notebook access** by toggling the switch\n",
    "\n",
    "#### **Benefits:**\n",
    "- ✅ **Stored** - You won't need to copy and paste each time you reopen the notebook (unless you generate a new token on the portal)\n",
    "- ✅ **Secure** - Token won't be visible in your notebook\n",
    "- ✅ **Shareable** - You can share notebooks without exposing your token\n",
    "- ✅ **Professional** - Best practice for sensitive credentials\n",
    "\n",
    "If you don't set up a secret, you can still paste your token directly in the code below (look for `ACCESS_TOKEN = \"YOUR_ACCESS_TOKEN_HERE\"`).\n",
    "\n",
    "---"
   ]
  },
  {
   "cell_type": "markdown",
   "metadata": {},
   "source": [
    "### 💾 Mount Google Drive\n",
    "\n",
    "You need to do this step to save the data you download."
   ]
  },
  {
   "cell_type": "code",
   "execution_count": null,
   "metadata": {},
   "outputs": [],
   "source": [
    "from google.colab import drive\n",
    "drive.mount('/content/drive')"
   ]
  },
  {
   "cell_type": "markdown",
   "metadata": {},
   "source": [
    "### 🚀 Setup and Installation\n",
    "\n",
    "First, let's download the Rice Data client."
   ]
  },
  {
   "cell_type": "code",
   "execution_count": null,
   "metadata": {},
   "outputs": [],
   "source": [
    "# Download the Rice Data Python client\n",
    "import urllib.request\n",
    "import os\n",
    "\n",
    "# Download from GitHub repository\n",
    "client_url = \"https://raw.githubusercontent.com/kerryback/data-portal-notebook/main/rice_data_client.py\"\n",
    "\n",
    "try:\n",
    "    urllib.request.urlretrieve(client_url, 'rice_data_client.py')\n",
    "    print(\"✅ Rice Data client downloaded successfully!\")\n",
    "except Exception as e:\n",
    "    print(f\"❌ Download failed: {e}\")\n",
    "    print(\"💡 You can manually copy the client code from the Rice Business Data Portal\")"
   ]
  },
  {
   "cell_type": "markdown",
   "metadata": {},
   "source": [
    "### 🔐 Connect to Rice Business Data\n",
    "\n",
    "- If you have not stored your access token as a secret in Colab as described above, then replace `YOUR_ACCESS_TOKEN_HERE` with your actual access token.  \n",
    "\n",
    "- The token is the same token you received via email and use to log into the web portal."
   ]
  },
  {
   "cell_type": "code",
   "execution_count": null,
   "metadata": {},
   "outputs": [],
   "source": [
    "from rice_data_client import RiceDataClient\n",
    "\n",
    "# 🔐 OPTION 1: Use Google Colab Secret (Recommended)\n",
    "try:\n",
    "    from google.colab import userdata\n",
    "    ACCESS_TOKEN = userdata.get('RICE_ACCESS_TOKEN')\n",
    "    print(\"✅ Using access token from Google Colab secrets\")\n",
    "except:\n",
    "    # 🔑 OPTION 2: Paste your token directly (if you didn't set up a secret)\n",
    "    ACCESS_TOKEN = \"YOUR_ACCESS_TOKEN_HERE\"  # Replace with your actual token\n",
    "    if ACCESS_TOKEN == \"YOUR_ACCESS_TOKEN_HERE\":\n",
    "        print(\"⚠️  Please either:\")\n",
    "        print(\"   1. Set up a secret named 'RICE_ACCESS_TOKEN' in Colab (recommended), or\")\n",
    "        print(\"   2. Replace 'YOUR_ACCESS_TOKEN_HERE' with your actual token\")\n",
    "\n",
    "# 🌐 Portal URL - Rice Business Data Portal\n",
    "PORTAL_URL = \"https://data-portal.rice-business.org\"\n",
    "\n",
    "# Connect to Rice Business data\n",
    "try:\n",
    "    client = RiceDataClient(\n",
    "        access_token=ACCESS_TOKEN,\n",
    "        base_url=PORTAL_URL\n",
    "    )\n",
    "    print(\"\\n🎉 Successfully connected to Rice Business Stock Market Data!\")\n",
    "except Exception as e:\n",
    "    print(f\"❌ Connection failed: {e}\")\n",
    "    print(\"💡 Make sure you have:\")\n",
    "    print(\"   1. A valid access token from the Rice Business Data Portal\")\n",
    "    print(\"   2. Internet connection to reach data-portal.rice-business.org\")"
   ]
  },
  {
   "cell_type": "markdown",
   "metadata": {},
   "source": [
    "### 🔍 Execute SQL Queries\n",
    "\n",
    "- To write queries, you can use the SQL Assistant chatbot at the [Rice Business Stock Market Data Portal](https://data-portal.rice-business.org).  \n",
    "-Copy and paste the query to replace `YOUR_QUERY_HERE` below.  \n",
    "- To write your own queries, you should know that the SQL engine is DuckDB.  Visit the Data Portal for information about table structures and an introduction to SQL.  \n",
    "- As an example, you can use\n",
    "```\n",
    "query = \"\"\"\n",
    "SELECT * from SEP LIMIT 100\n",
    "\"\"\"\n",
    "```\n"
   ]
  },
  {
   "cell_type": "code",
   "execution_count": null,
   "metadata": {},
   "outputs": [],
   "source": [
    "query = \"\"\"\n",
    "YOUR_QUERY_HERE\n",
    "\"\"\"\n",
    "\n",
    "data = client.query(query)"
   ]
  },
  {
   "cell_type": "markdown",
   "metadata": {},
   "source": [
    "### 📊 Get Information about the Data"
   ]
  },
  {
   "cell_type": "code",
   "execution_count": null,
   "metadata": {},
   "outputs": [],
   "source": [
    "data.info()"
   ]
  },
  {
   "cell_type": "code",
   "execution_count": null,
   "metadata": {},
   "outputs": [],
   "source": [
    "data.head()"
   ]
  },
  {
   "cell_type": "code",
   "execution_count": null,
   "metadata": {},
   "outputs": [],
   "source": [
    "data.describe()"
   ]
  },
  {
   "cell_type": "markdown",
   "metadata": {},
   "source": [
    "### 📥 Save the Data\n",
    "\n",
    "Substitute the filename (or path/filename) you want to usefor `FILENAME` below."
   ]
  },
  {
   "cell_type": "code",
   "execution_count": null,
   "metadata": {},
   "outputs": [],
   "source": [
    "data.to_csv(f'content/drive/MyDrive/FILENAME', index=False)"
   ]
  }
 ],
 "metadata": {
  "colab": {
   "provenance": [],
   "toc_visible": true
  },
  "kernelspec": {
   "display_name": "venv",
   "language": "python",
   "name": "python3"
  },
  "language_info": {
   "codemirror_mode": {
    "name": "ipython",
    "version": 3
   },
   "file_extension": ".py",
   "mimetype": "text/x-python",
   "name": "python",
   "nbconvert_exporter": "python",
   "pygments_lexer": "ipython3",
   "version": "3.12.3"
  }
 },
 "nbformat": 4,
 "nbformat_minor": 4
}
