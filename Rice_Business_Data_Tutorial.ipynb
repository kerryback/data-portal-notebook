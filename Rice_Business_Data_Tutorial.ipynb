{
 "cells": [
  {
   "cell_type": "markdown",
   "metadata": {
    "colab_type": "text",
    "id": "view-in-github"
   },
   "source": [
    "<a href=\"https://colab.research.google.com/github/kerryback/data-portal-notebook/blob/main/Rice_Business_Data_Example.ipynb\" target=\"_parent\"><img src=\"https://colab.research.google.com/assets/colab-badge.svg\" alt=\"Open In Colab\"/></a>"
   ]
  },
  {
   "cell_type": "markdown",
   "metadata": {},
   "source": [
    "# Rice Business Stock Market Data Python Tutorial\n",
    "\n",
    "This notebook demonstrates how to access and analyze stock market data from the Rice Business Stock MarketData Portal using Python and DuckDB queries.\n",
    "\n",
    "### 📋 What You'll Learn\n",
    "\n",
    "- How to install the RiceDataClient\n",
    "- How to connect to Rice Business stock market data\n",
    "- How to executeSQL queries with the RiceDataClient\n",
    "\n",
    "\n",
    "### 🔑 Getting Your Access Token\n",
    "\n",
    "1. Visit the [Rice Business Data Portal](https://data-portal.rice-business.org)\n",
    "2. Enter your `@rice.edu` email address\n",
    "3. Check your email for the **access token**\n",
    "4. Use that access token in the code below\n",
    "\n",
    "**Note**: The access token is the same token you use to log into the web portal!\n",
    "\n",
    "### 🔐 **Recommended: Store Your Token as a Secret in Google Colab**\n",
    "\n",
    "For security, we recommend storing your access token as a **secret** in Google Colab instead of pasting it directly in the code:\n",
    "\n",
    "#### **How to Add a Secret:**\n",
    "1. **Click the 🔑 key icon** on the left sidebar in Colab\n",
    "2. **Click \"Add new secret\"**\n",
    "3. **Name:** `RICE_ACCESS_TOKEN`\n",
    "4. **Value:** Paste your access token from the email\n",
    "5. **Enable notebook access** by toggling the switch\n",
    "\n",
    "#### **Benefits:**\n",
    "- ✅ **Secure** - Token won't be visible in your notebook\n",
    "- ✅ **Shareable** - You can share notebooks without exposing your token\n",
    "- ✅ **Professional** - Best practice for sensitive credentials\n",
    "\n",
    "If you don't set up a secret, you can still paste your token directly in the code below (look for `ACCESS_TOKEN = \"YOUR_ACCESS_TOKEN_HERE\"`).\n",
    "\n",
    "---"
   ]
  },
  {
   "cell_type": "markdown",
   "metadata": {},
   "source": [
    "### 🚀 Setup and Installation\n",
    "\n",
    "First, let's download the Rice Data client."
   ]
  },
  {
   "cell_type": "code",
   "execution_count": 3,
   "metadata": {},
   "outputs": [
    {
     "name": "stdout",
     "output_type": "stream",
     "text": [
      "✅ Rice Data client downloaded successfully!\n"
     ]
    }
   ],
   "source": [
    "# Download the Rice Data Python client\n",
    "import urllib.request\n",
    "import os\n",
    "\n",
    "# Download from GitHub repository\n",
    "client_url = \"https://raw.githubusercontent.com/kerryback/data-portal-notebook/main/rice_data_client.py\"\n",
    "\n",
    "try:\n",
    "    urllib.request.urlretrieve(client_url, 'rice_data_client.py')\n",
    "    print(\"✅ Rice Data client downloaded successfully!\")\n",
    "except Exception as e:\n",
    "    print(f\"❌ Download failed: {e}\")\n",
    "    print(\"💡 You can manually copy the client code from the Rice Business Data Portal\")"
   ]
  },
  {
   "cell_type": "markdown",
   "metadata": {},
   "source": [
    "### 🔐 Connect to Rice Business Data\n",
    "\n",
    "**Replace `YOUR_ACCESS_TOKEN_HERE` with your actual access token from the Rice Business Data Portal.**\n",
    "\n",
    "This is the same token you received via email and use to log into the web portal!"
   ]
  },
  {
   "cell_type": "code",
   "execution_count": null,
   "metadata": {},
   "outputs": [
    {
     "name": "stdout",
     "output_type": "stream",
     "text": [
      "✅ Connected to Rice Business Stock Market Data\n",
      "📧 User: verified_user@rice.edu\n",
      "🔑 Permissions: read_all, sql_queries\n",
      "\n",
      "🎉 Successfully connected to Rice Business Stock Market Data!\n"
     ]
    }
   ],
   "source": [
    "from rice_data_client import RiceDataClient\n",
    "\n",
    "# 🔐 OPTION 1: Use Google Colab Secret (Recommended)\n",
    "try:\n",
    "    from google.colab import userdata\n",
    "    ACCESS_TOKEN = userdata.get('RICE_ACCESS_TOKEN')\n",
    "    print(\"✅ Using access token from Google Colab secrets\")\n",
    "except:\n",
    "    # 🔑 OPTION 2: Paste your token directly (if you didn't set up a secret)\n",
    "    ACCESS_TOKEN = \"YOUR_ACCESS_TOKEN_HERE\"  # Replace with your actual token\n",
    "    if ACCESS_TOKEN == \"YOUR_ACCESS_TOKEN_HERE\":\n",
    "        print(\"⚠️  Please either:\")\n",
    "        print(\"   1. Set up a secret named 'RICE_ACCESS_TOKEN' in Colab (recommended), or\")\n",
    "        print(\"   2. Replace 'YOUR_ACCESS_TOKEN_HERE' with your actual token\")\n",
    "\n",
    "# 🌐 Portal URL - Rice Business Data Portal\n",
    "PORTAL_URL = \"https://data-portal.rice-business.org\"\n",
    "\n",
    "# Connect to Rice Business data\n",
    "try:\n",
    "    client = RiceDataClient(\n",
    "        access_token=ACCESS_TOKEN,\n",
    "        base_url=PORTAL_URL\n",
    "    )\n",
    "    print(\"\\n🎉 Successfully connected to Rice Business Stock Market Data!\")\n",
    "except Exception as e:\n",
    "    print(f\"❌ Connection failed: {e}\")\n",
    "    print(\"💡 Make sure you have:\")\n",
    "    print(\"   1. A valid access token from the Rice Business Data Portal\")\n",
    "    print(\"   2. Internet connection to reach data-portal.rice-business.org\")"
   ]
  },
  {
   "cell_type": "markdown",
   "metadata": {},
   "source": [
    "### 🔍 Execute SQL Queries\n",
    "\n",
    "- The SQL engine is DuckDB.  It supports standard SQL syntax with some extensions.\n",
    "- To structure queries, consult the [Rice Business Stock Market Data Portal](https://data-portal.rice-business.org) for information about the tables and variables in the database.  \n",
    "- You can also use the SQL Assistant chatbot at the Data Portal to structure queries.\n",
    "- The RiceDataClient.query() method executes SQL queries and returns the result as a pandas DataFrame."
   ]
  },
  {
   "cell_type": "code",
   "execution_count": 6,
   "metadata": {},
   "outputs": [
    {
     "name": "stdout",
     "output_type": "stream",
     "text": [
      "📊 Query returned 6429 rows\n"
     ]
    }
   ],
   "source": [
    "# Example: Get adjusted closing prices for AAPL\n",
    "\n",
    "query = \"\"\"\n",
    "SELECT date, closeadj\n",
    "FROM sep\n",
    "WHERE ticker = 'AAPL' \n",
    "ORDER BY date\n",
    "\"\"\"\n",
    "\n",
    "df = client.query(query)"
   ]
  },
  {
   "cell_type": "code",
   "execution_count": 7,
   "metadata": {},
   "outputs": [
    {
     "name": "stdout",
     "output_type": "stream",
     "text": [
      "<class 'pandas.core.frame.DataFrame'>\n",
      "RangeIndex: 6429 entries, 0 to 6428\n",
      "Data columns (total 2 columns):\n",
      " #   Column    Non-Null Count  Dtype  \n",
      "---  ------    --------------  -----  \n",
      " 0   date      6429 non-null   object \n",
      " 1   closeadj  6429 non-null   float64\n",
      "dtypes: float64(1), object(1)\n",
      "memory usage: 100.6+ KB\n"
     ]
    }
   ],
   "source": [
    "df.info()"
   ]
  },
  {
   "cell_type": "code",
   "execution_count": 8,
   "metadata": {},
   "outputs": [
    {
     "data": {
      "text/html": [
       "<div>\n",
       "<style scoped>\n",
       "    .dataframe tbody tr th:only-of-type {\n",
       "        vertical-align: middle;\n",
       "    }\n",
       "\n",
       "    .dataframe tbody tr th {\n",
       "        vertical-align: top;\n",
       "    }\n",
       "\n",
       "    .dataframe thead th {\n",
       "        text-align: right;\n",
       "    }\n",
       "</style>\n",
       "<table border=\"1\" class=\"dataframe\">\n",
       "  <thead>\n",
       "    <tr style=\"text-align: right;\">\n",
       "      <th></th>\n",
       "      <th>date</th>\n",
       "      <th>closeadj</th>\n",
       "    </tr>\n",
       "  </thead>\n",
       "  <tbody>\n",
       "    <tr>\n",
       "      <th>0</th>\n",
       "      <td>2000-01-03</td>\n",
       "      <td>0.841</td>\n",
       "    </tr>\n",
       "    <tr>\n",
       "      <th>1</th>\n",
       "      <td>2000-01-04</td>\n",
       "      <td>0.770</td>\n",
       "    </tr>\n",
       "    <tr>\n",
       "      <th>2</th>\n",
       "      <td>2000-01-05</td>\n",
       "      <td>0.781</td>\n",
       "    </tr>\n",
       "    <tr>\n",
       "      <th>3</th>\n",
       "      <td>2000-01-06</td>\n",
       "      <td>0.714</td>\n",
       "    </tr>\n",
       "    <tr>\n",
       "      <th>4</th>\n",
       "      <td>2000-01-07</td>\n",
       "      <td>0.748</td>\n",
       "    </tr>\n",
       "  </tbody>\n",
       "</table>\n",
       "</div>"
      ],
      "text/plain": [
       "         date  closeadj\n",
       "0  2000-01-03     0.841\n",
       "1  2000-01-04     0.770\n",
       "2  2000-01-05     0.781\n",
       "3  2000-01-06     0.714\n",
       "4  2000-01-07     0.748"
      ]
     },
     "execution_count": 8,
     "metadata": {},
     "output_type": "execute_result"
    }
   ],
   "source": [
    "df.head()"
   ]
  },
  {
   "cell_type": "code",
   "execution_count": null,
   "metadata": {},
   "outputs": [
    {
     "data": {
      "text/plain": [
       "<Axes: >"
      ]
     },
     "execution_count": 9,
     "metadata": {},
     "output_type": "execute_result"
    },
    {
     "data": {
      "image/png": "[encoded data removed]",
      "text/plain": [
       "<Figure size 640x480 with 1 Axes>"
      ]
     },
     "metadata": {},
     "output_type": "display_data"
    }
   ],
   "source": [
    "df.plot()"
   ]
  }
 ],
 "metadata": {
  "colab": {
   "provenance": [],
   "toc_visible": true
  },
  "kernelspec": {
   "display_name": "venv",
   "language": "python",
   "name": "python3"
  },
  "language_info": {
   "codemirror_mode": {
    "name": "ipython",
    "version": 3
   },
   "file_extension": ".py",
   "mimetype": "text/x-python",
   "name": "python",
   "nbconvert_exporter": "python",
   "pygments_lexer": "ipython3",
   "version": "3.12.3"
  }
 },
 "nbformat": 4,
 "nbformat_minor": 4
}
