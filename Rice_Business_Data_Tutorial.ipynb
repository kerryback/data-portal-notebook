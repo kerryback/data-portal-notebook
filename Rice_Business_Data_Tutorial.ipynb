{
 "cells": [
  {
   "cell_type": "markdown",
   "metadata": {
    "colab_type": "text",
    "id": "view-in-github"
   },
   "source": [
    "<a href=\"https://colab.research.google.com/github/kerryback/data-portal-notebook/blob/main/Rice_Business_Data_Example.ipynb\" target=\"_parent\"><img src=\"https://colab.research.google.com/assets/colab-badge.svg\" alt=\"Open In Colab\"/></a>"
   ]
  },
  {
   "cell_type": "markdown",
   "metadata": {},
   "source": [
    "# Rice Business Stock Market Data Portal\n",
    "\n",
    "## Python API Tutorial\n",
    "\n",
    "This notebook demonstrates how to access and analyze stock market data from the Rice Business Stock MarketData Portal using Python and DuckDB queries.\n",
    "\n",
    "### 📋 What You'll Learn\n",
    "\n",
    "- How to connect to Rice Business stock market data\n",
    "- SQL queries with DuckDB syntax\n",
    "- Stock analysis examples\n",
    "- Data visualization with pandas and matplotlib\n",
    "\n",
    "### 🔑 Getting Your Access Token\n",
    "\n",
    "1. Visit the [Rice Business Data Portal](https://data-portal.rice-business.org)\n",
    "2. Enter your `@rice.edu` email address\n",
    "3. Check your email for the **access token**\n",
    "4. Use that access token in the code below\n",
    "\n",
    "**Note**: The access token is the same token you use to log into the web portal!\n",
    "\n",
    "### 🔐 **Recommended: Store Your Token as a Secret in Google Colab**\n",
    "\n",
    "For security, we recommend storing your access token as a **secret** in Google Colab instead of pasting it directly in the code:\n",
    "\n",
    "#### **How to Add a Secret:**\n",
    "1. **Click the 🔑 key icon** on the left sidebar in Colab\n",
    "2. **Click \"Add new secret\"**\n",
    "3. **Name:** `RICE_ACCESS_TOKEN`\n",
    "4. **Value:** Paste your access token from the email\n",
    "5. **Enable notebook access** by toggling the switch\n",
    "\n",
    "#### **Benefits:**\n",
    "- ✅ **Secure** - Token won't be visible in your notebook\n",
    "- ✅ **Shareable** - You can share notebooks without exposing your token\n",
    "- ✅ **Professional** - Best practice for sensitive credentials\n",
    "\n",
    "If you don't set up a secret, you can still paste your token directly in the code below (look for `ACCESS_TOKEN = \"YOUR_ACCESS_TOKEN_HERE\"`).\n",
    "\n",
    "---"
   ]
  },
  {
   "cell_type": "markdown",
   "metadata": {},
   "source": [
    "### 🚀 Setup and Installation\n",
    "\n",
    "First, let's install the required packages and download the Rice Data client."
   ]
  },
  {
   "cell_type": "code",
   "execution_count": null,
   "metadata": {},
   "outputs": [],
   "source": [
    "# Install required packages\n",
    "!pip install requests pandas matplotlib seaborn plotly -q\n",
    "\n",
    "print(\"✅ Packages installed successfully!\")"
   ]
  },
  {
   "cell_type": "code",
   "execution_count": null,
   "metadata": {},
   "outputs": [],
   "source": [
    "# Download the Rice Data Python client\n",
    "import urllib.request\n",
    "import os\n",
    "\n",
    "# Download from GitHub repository\n",
    "client_url = \"https://raw.githubusercontent.com/kerryback/data-portal-notebook/main/rice_data_client.py\"\n",
    "\n",
    "try:\n",
    "    urllib.request.urlretrieve(client_url, 'rice_data_client.py')\n",
    "    print(\"✅ Rice Data client downloaded successfully!\")\n",
    "except Exception as e:\n",
    "    print(f\"❌ Download failed: {e}\")\n",
    "    print(\"💡 You can manually copy the client code from the Rice Business Data Portal\")"
   ]
  },
  {
   "cell_type": "code",
   "execution_count": null,
   "metadata": {},
   "outputs": [],
   "source": [
    "# Import libraries\n",
    "import pandas as pd\n",
    "import matplotlib.pyplot as plt\n",
    "import seaborn as sns\n",
    "import plotly.express as px\n",
    "import plotly.graph_objects as go\n",
    "from datetime import datetime, timedelta\n",
    "import warnings\n",
    "warnings.filterwarnings('ignore')\n",
    "\n",
    "# Set plotting style\n",
    "plt.style.use('default')\n",
    "sns.set_palette(\"husl\")\n",
    "\n",
    "print(\"✅ Libraries imported successfully!\")"
   ]
  },
  {
   "cell_type": "markdown",
   "metadata": {},
   "source": [
    "### 🔐 Connect to Rice Business Data\n",
    "\n",
    "**Replace `YOUR_ACCESS_TOKEN_HERE` with your actual access token from the Rice Business Data Portal.**\n",
    "\n",
    "This is the same token you received via email and use to log into the web portal!"
   ]
  },
  {
   "cell_type": "code",
   "execution_count": null,
   "metadata": {},
   "outputs": [],
   "source": [
    "# Import the Rice Data client\n",
    "from rice_data_client import RiceDataClient\n",
    "\n",
    "# 🔐 OPTION 1: Use Google Colab Secret (Recommended)\n",
    "try:\n",
    "    from google.colab import userdata\n",
    "    ACCESS_TOKEN = userdata.get('RICE_ACCESS_TOKEN')\n",
    "    print(\"✅ Using access token from Google Colab secrets\")\n",
    "except:\n",
    "    # 🔑 OPTION 2: Paste your token directly (if you didn't set up a secret)\n",
    "    ACCESS_TOKEN = \"YOUR_ACCESS_TOKEN_HERE\"  # Replace with your actual token\n",
    "    if ACCESS_TOKEN == \"YOUR_ACCESS_TOKEN_HERE\":\n",
    "        print(\"⚠️  Please either:\")\n",
    "        print(\"   1. Set up a secret named 'RICE_ACCESS_TOKEN' in Colab (recommended), or\")\n",
    "        print(\"   2. Replace 'YOUR_ACCESS_TOKEN_HERE' with your actual token\")\n",
    "\n",
    "# 🌐 Portal URL - Rice Business Data Portal\n",
    "PORTAL_URL = \"https://data-portal.rice-business.org\"\n",
    "\n",
    "# Connect to Rice Business data\n",
    "try:\n",
    "    client = RiceDataClient(\n",
    "        access_token=ACCESS_TOKEN,\n",
    "        base_url=PORTAL_URL\n",
    "    )\n",
    "    print(\"\\n🎉 Successfully connected to Rice Business Stock Market Data!\")\n",
    "except Exception as e:\n",
    "    print(f\"❌ Connection failed: {e}\")\n",
    "    print(\"💡 Make sure you have:\")\n",
    "    print(\"   1. A valid access token from the Rice Business Data Portal\")\n",
    "    print(\"   2. Internet connection to reach data-portal.rice-business.org\")\n",
    "    print(\"   3. Your token hasn't expired (tokens are valid for 48 hours)\")"
   ]
  },
  {
   "cell_type": "markdown",
   "metadata": {},
   "source": [
    "### 📊 Explore Available Data\n",
    "\n",
    "Let's start by exploring what data is available in our database."
   ]
  },
  {
   "cell_type": "code",
   "execution_count": null,
   "metadata": {},
   "outputs": [],
   "source": [
    "# Get available tables\n",
    "tables = client.get_available_tables()\n",
    "print(\"📋 Available Data Tables:\")\n",
    "for i, table in enumerate(tables, 1):\n",
    "    print(f\"   {i}. {table}\")\n",
    "\n",
    "# Get database statistics\n",
    "stats = client.get_stats()\n",
    "print(f\"\\n📈 Database Overview:\")\n",
    "print(f\"   • Total companies: {stats['total_tickers']:,}\")\n",
    "print(f\"   • Active companies: {stats['active_tickers']:,}\")\n",
    "print(f\"   • Top exchanges: {', '.join([ex['exchange'] for ex in stats['top_exchanges'][:3]])}\")"
   ]
  },
  {
   "cell_type": "code",
   "execution_count": null,
   "metadata": {},
   "outputs": [],
   "source": [
    "# Explore sectors in the database\n",
    "sectors = client.list_sectors()\n",
    "print(\"🏢 Top 10 Sectors by Number of Companies:\")\n",
    "print(sectors.head(10).to_string(index=False))\n",
    "\n",
    "# Create a simple visualization\n",
    "plt.figure(figsize=(12, 6))\n",
    "top_sectors = sectors.head(8)\n",
    "plt.bar(range(len(top_sectors)), top_sectors['ticker_count'], color='steelblue')\n",
    "plt.xlabel('Sector')\n",
    "plt.ylabel('Number of Companies')\n",
    "plt.title('Top 8 Sectors by Number of Companies')\n",
    "plt.xticks(range(len(top_sectors)), top_sectors['sector'], rotation=45, ha='right')\n",
    "plt.tight_layout()\n",
    "plt.show()"
   ]
  },
  {
   "cell_type": "markdown",
   "metadata": {},
   "source": [
    "### 🔍 Basic DuckDB Queries\n",
    "\n",
    "Now let's explore the data using SQL queries. DuckDB supports standard SQL syntax with some powerful extensions.\n",
    "\n",
    "**💡 Note on Date Handling:** For maximum compatibility across different DuckDB environments (especially Google Colab), we use Python's `datetime` module to calculate dates and pass them as strings to SQL queries. This avoids issues with `INTERVAL` or `CURRENT_DATE` functions that may not be available in all environments."
   ]
  },
  {
   "cell_type": "code",
   "execution_count": null,
   "metadata": {},
   "outputs": [],
   "source": [
    "# Example 1: Find technology companies\n",
    "print(\"💻 Technology Companies (Sample):\")\n",
    "tech_companies = client.query(\"\"\"\n",
    "    SELECT ticker, name, industry, exchange, location\n",
    "    FROM ndl.tickers \n",
    "    WHERE sector = 'Technology' \n",
    "    AND isdelisted = 'N'\n",
    "    ORDER BY ticker\n",
    "    LIMIT 10\n",
    "\"\"\")\n",
    "\n",
    "print(tech_companies.to_string(index=False))"
   ]
  },
  {
   "cell_type": "code",
   "execution_count": null,
   "metadata": {},
   "outputs": [],
   "source": [
    "# Summary: Your exploration summary\n",
    "print(\"🎉 Rice Business Stock Market Data Analysis Complete!\")\n",
    "print(\"\\n📊 What we covered:\")\n",
    "print(\"   ✅ Connected to Rice Business data with access token\")\n",
    "print(\"   ✅ Explored available data tables and statistics\")\n",
    "print(\"   ✅ Performed basic DuckDB queries\")\n",
    "print(\"\\n💡 Ready to dive deeper into financial analysis!\")\n",
    "print(\"\\n🔗 Don't forget to get your own access token from the Rice Business Data Portal\")"
   ]
  }
 ],
 "metadata": {
  "colab": {
   "provenance": [],
   "toc_visible": true
  },
  "kernelspec": {
   "display_name": "Python 3",
   "language": "python",
   "name": "python3"
  },
  "language_info": {
   "codemirror_mode": {
    "name": "ipython",
    "version": 3
   },
   "file_extension": ".py",
   "mimetype": "text/x-python",
   "name": "python",
   "nbconvert_exporter": "python",
   "pygments_lexer": "ipython3",
   "version": "3.8.5"
  }
 },
 "nbformat": 4,
 "nbformat_minor": 4
}
